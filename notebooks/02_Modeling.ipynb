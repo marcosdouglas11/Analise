{
 "cells": [
  {
   "cell_type": "code",
   "execution_count": 116,
   "id": "c50a4a90",
   "metadata": {},
   "outputs": [],
   "source": [
    "import pandas as pd\n",
    "import numpy as np\n",
    "import matplotlib.pyplot as plt\n",
    "from sklearn.datasets import load_iris\n",
    "from sklearn.inspection import DecisionBoundaryDisplay\n",
    "from sklearn.tree import plot_tree\n",
    "from sklearn.model_selection import train_test_split\n",
    "from sklearn.metrics import confusion_matrix\n",
    "from sklearn.metrics import ConfusionMatrixDisplay\n",
    "from sklearn.metrics import accuracy_score, precision_score, recall_score, f1_score\n",
    "from sklearn.metrics import classification_report\n",
    "from sklearn.model_selection import cross_val_score, KFold , GridSearchCV\n",
    "from sklearn.preprocessing import LabelBinarizer\n",
    "from sklearn.metrics import RocCurveDisplay, roc_curve\n",
    "from sklearn import metrics\n",
    "import seaborn as sns\n",
    "from xgboost import XGBClassifier\n",
    "from sklearn.ensemble import RandomForestClassifier\n",
    "from sklearn.linear_model import LogisticRegression\n",
    "from sklearn.tree import DecisionTreeClassifier\n",
    "from sklearn.preprocessing import OneHotEncoder\n",
    "from sklearn.datasets import make_classification\n",
    "from sklearn.naive_bayes import GaussianNB\n",
    "from sklearn.pipeline import Pipeline\n",
    "from sklearn.preprocessing import StandardScaler\n",
    "from sklearn.metrics import roc_auc_score"
   ]
  },
  {
   "cell_type": "code",
   "execution_count": 117,
   "id": "2377fa7f",
   "metadata": {},
   "outputs": [],
   "source": [
    "# importação do conjunto de dados\n",
    "\n",
    "arquivo_excel = 'telco_customer_churn.xlsx'\n",
    "\n",
    "# Lendo o arquivo Excel\n",
    "df = pd.read_excel(arquivo_excel)\n"
   ]
  },
  {
   "cell_type": "code",
   "execution_count": 118,
   "id": "e7c55569",
   "metadata": {},
   "outputs": [
    {
     "data": {
      "text/plain": [
       "(5634, 21)"
      ]
     },
     "execution_count": 118,
     "metadata": {},
     "output_type": "execute_result"
    }
   ],
   "source": [
    "# selecionando amostra aleatória\n",
    "amostra = df.sample(frac=0.8, random_state=999)\n",
    "amostra['Churn'].value_counts()\n",
    "amostra.shape"
   ]
  },
  {
   "cell_type": "code",
   "execution_count": 119,
   "id": "03a9c546",
   "metadata": {},
   "outputs": [
    {
     "data": {
      "text/plain": [
       "(1409, 21)"
      ]
     },
     "execution_count": 119,
     "metadata": {},
     "output_type": "execute_result"
    }
   ],
   "source": [
    "# conjunto de dados que não fez parte da amostra\n",
    "n_amostra = df[~df['customerID'].isin(amostra['customerID'])]\n",
    "n_amostra.shape"
   ]
  },
  {
   "cell_type": "code",
   "execution_count": 121,
   "id": "9de97c7e",
   "metadata": {},
   "outputs": [],
   "source": [
    "# separando variáveis explicativas e resposta\n",
    "X = amostra [[ 'Contract', 'SeniorCitizen',  'Partner',  'Dependents',   'DeviceProtection',   'gender','MonthlyCharges', 'TotalCharges']]\n",
    "y = amostra [['Churn']]\n",
    "numerical_cols = ['MonthlyCharges', 'TotalCharges']\n"
   ]
  },
  {
   "cell_type": "code",
   "execution_count": 122,
   "id": "a0bf4ff6",
   "metadata": {},
   "outputs": [
    {
     "data": {
      "text/plain": [
       "Churn\n",
       "0    1276\n",
       "1     696\n",
       "Name: count, dtype: int64"
      ]
     },
     "execution_count": 122,
     "metadata": {},
     "output_type": "execute_result"
    }
   ],
   "source": [
    "# Dividir em treino e teste\n",
    "\n",
    "X_train, X_test, y_train, y_test = train_test_split(X, y, test_size=0.35, random_state=495)\n",
    "\n",
    "# transformar categoria em número \n",
    "y_train['Churn'] = np.where(y_train['Churn'] == 'Yes', 1, 0)\n",
    "y_test['Churn'] = np.where(y_test['Churn'] == 'Yes', 1, 0)\n",
    "y_test['Churn'].value_counts()"
   ]
  },
  {
   "cell_type": "code",
   "execution_count": 123,
   "id": "cf8bb223",
   "metadata": {},
   "outputs": [
    {
     "name": "stderr",
     "output_type": "stream",
     "text": [
      "C:\\Users\\re048225\\AppData\\Local\\Temp\\ipykernel_20964\\1068921752.py:3: FutureWarning: DataFrame.applymap has been deprecated. Use DataFrame.map instead.\n",
      "  categorical_dummies = categorical_dummies.applymap(lambda x: 1 if x else 0)\n"
     ]
    },
    {
     "data": {
      "text/plain": [
       "Churn\n",
       "0    2353\n",
       "1    1309\n",
       "Name: count, dtype: int64"
      ]
     },
     "execution_count": 123,
     "metadata": {},
     "output_type": "execute_result"
    }
   ],
   "source": [
    "# gerando as variáveis dummies (das categóricas) - treino\n",
    "categorical_dummies = pd.get_dummies(X_train.drop(['MonthlyCharges', 'TotalCharges'], axis=1), drop_first=True)\n",
    "categorical_dummies = categorical_dummies.applymap(lambda x: 1 if x else 0)\n",
    "X_train2 = pd.concat([categorical_dummies, X_train[numerical_cols]], axis=1)\n",
    "\n",
    "y_train\n",
    "y_train['Churn'].value_counts()"
   ]
  },
  {
   "cell_type": "code",
   "execution_count": 125,
   "id": "dcef761e",
   "metadata": {},
   "outputs": [
    {
     "name": "stderr",
     "output_type": "stream",
     "text": [
      "C:\\Users\\re048225\\AppData\\Local\\Temp\\ipykernel_20964\\1310748415.py:3: FutureWarning: DataFrame.applymap has been deprecated. Use DataFrame.map instead.\n",
      "  categorical_dummies2 = categorical_dummies2.applymap(lambda x: 1 if x else 0)\n"
     ]
    }
   ],
   "source": [
    "# gerando as variáveis dummies (das categóricas) - teste\n",
    "categorical_dummies2 = pd.get_dummies(X_test.drop(['MonthlyCharges', 'TotalCharges'], axis=1), drop_first=True)\n",
    "categorical_dummies2 = categorical_dummies2.applymap(lambda x: 1 if x else 0)\n",
    "X_test2 = pd.concat([categorical_dummies2, X_test[numerical_cols]], axis=1)\n",
    "#X_train2 = X_train2.applymap(lambda x: 1 if x else 0)\n",
    "\n"
   ]
  },
  {
   "cell_type": "code",
   "execution_count": 126,
   "id": "03ed0797",
   "metadata": {},
   "outputs": [],
   "source": [
    "# base de validação\n",
    "X_valid = n_amostra [[ 'Contract', 'SeniorCitizen',  'Partner',  'Dependents',   'DeviceProtection',   'gender','MonthlyCharges', 'TotalCharges']]\n",
    "y_valid = n_amostra [['Churn']]\n"
   ]
  },
  {
   "cell_type": "code",
   "execution_count": 127,
   "id": "dc9f7e3e",
   "metadata": {},
   "outputs": [
    {
     "name": "stderr",
     "output_type": "stream",
     "text": [
      "C:\\Users\\re048225\\AppData\\Local\\Temp\\ipykernel_20964\\491269437.py:3: FutureWarning: DataFrame.applymap has been deprecated. Use DataFrame.map instead.\n",
      "  categorical_dummies3 = categorical_dummies3.applymap(lambda x: 1 if x else 0)\n",
      "C:\\Users\\re048225\\AppData\\Local\\Temp\\ipykernel_20964\\491269437.py:5: SettingWithCopyWarning: \n",
      "A value is trying to be set on a copy of a slice from a DataFrame.\n",
      "Try using .loc[row_indexer,col_indexer] = value instead\n",
      "\n",
      "See the caveats in the documentation: https://pandas.pydata.org/pandas-docs/stable/user_guide/indexing.html#returning-a-view-versus-a-copy\n",
      "  y_valid['Churn'] = np.where(y_valid['Churn'] == 'Yes', 1, 0)\n"
     ]
    }
   ],
   "source": [
    "# gerando as variáveis dummies (das categóricas) - validacao\n",
    "categorical_dummies3 = pd.get_dummies(X_valid.drop(['MonthlyCharges', 'TotalCharges'], axis=1), drop_first=True)\n",
    "categorical_dummies3 = categorical_dummies3.applymap(lambda x: 1 if x else 0)\n",
    "X_valid2 = pd.concat([categorical_dummies3, X_valid[numerical_cols]], axis=1)\n",
    "y_valid['Churn'] = np.where(y_valid['Churn'] == 'Yes', 1, 0)"
   ]
  },
  {
   "cell_type": "code",
   "execution_count": 128,
   "id": "98a4e59c",
   "metadata": {},
   "outputs": [
    {
     "name": "stderr",
     "output_type": "stream",
     "text": [
      "C:\\Users\\re048225\\AppData\\Local\\Packages\\PythonSoftwareFoundation.Python.3.11_qbz5n2kfra8p0\\LocalCache\\local-packages\\Python311\\site-packages\\sklearn\\base.py:1389: DataConversionWarning: A column-vector y was passed when a 1d array was expected. Please change the shape of y to (n_samples,), for example using ravel().\n",
      "  return fit_method(estimator, *args, **kwargs)\n"
     ]
    },
    {
     "name": "stdout",
     "output_type": "stream",
     "text": [
      "Acurácia: 0.59\n",
      "Precisão: 0.39\n",
      "Recall: 0.26\n",
      "F1-Score: 0.31\n"
     ]
    }
   ],
   "source": [
    "# treinamento com modelo random forest\n",
    "\n",
    "rf_model = RandomForestClassifier(random_state=56)\n",
    "rf_model.fit(X_train2, y_train)\n",
    "\n",
    "forest = rf_model.predict(X_test2)\n",
    "\n",
    "# Avaliar o modelo\n",
    "accuracy = accuracy_score(y_test, forest)\n",
    "precision = precision_score(y_test, forest)\n",
    "recall = recall_score(y_test, forest)\n",
    "f1 = f1_score(y_test, forest)\n",
    "\n",
    "print(f\"Acurácia: {accuracy:.2f}\")\n",
    "print(f\"Precisão: {precision:.2f}\")\n",
    "print(f\"Recall: {recall:.2f}\")\n",
    "print(f\"F1-Score: {f1:.2f}\")"
   ]
  },
  {
   "cell_type": "code",
   "execution_count": 129,
   "id": "39435235",
   "metadata": {},
   "outputs": [
    {
     "name": "stdout",
     "output_type": "stream",
     "text": [
      "Acurácia: 0.59\n",
      "Precisão: 0.37\n",
      "Recall: 0.31\n",
      "F1-Score: 0.33\n"
     ]
    }
   ],
   "source": [
    "# Random Forest - validação\n",
    "forest_valid = rf_model.predict(X_valid2)\n",
    "\n",
    "# Avaliar o modelo\n",
    "accuracy = accuracy_score(y_valid, forest_valid)\n",
    "precision = precision_score(y_valid, forest_valid)\n",
    "recall = recall_score(y_valid, forest_valid)\n",
    "f1 = f1_score(y_valid, forest_valid)\n",
    "\n",
    "print(f\"Acurácia: {accuracy:.2f}\")\n",
    "print(f\"Precisão: {precision:.2f}\")\n",
    "print(f\"Recall: {recall:.2f}\")\n",
    "print(f\"F1-Score: {f1:.2f}\")"
   ]
  },
  {
   "cell_type": "markdown",
   "id": "5368506a",
   "metadata": {},
   "source": [
    "Após testar o modelo random forest, tanto na base de teste como validação, pôde-se observar as principais métricas, vendo que acurácia em ambos resultados ficam em torno de 0.59, precisão em torno de 0.39 e F-score um pouco acima dos 0.30"
   ]
  },
  {
   "cell_type": "code",
   "execution_count": 131,
   "id": "995c6b60",
   "metadata": {},
   "outputs": [
    {
     "name": "stdout",
     "output_type": "stream",
     "text": [
      "Acurácia: 0.56\n",
      "Precisão: 0.37\n",
      "Recall: 0.37\n",
      "F1-Score: 0.37\n"
     ]
    }
   ],
   "source": [
    "# Criar e treinar o modelo de Decision Tree\n",
    "model = DecisionTreeClassifier(random_state=42)\n",
    "model.fit(X_train2, y_train)\n",
    "\n",
    "# Fazer previsões\n",
    "tree = model.predict(X_test2)\n",
    "\n",
    "# Avaliar o modelo\n",
    "accuracy = accuracy_score(y_test, tree)\n",
    "precision = precision_score(y_test, tree)\n",
    "recall = recall_score(y_test, tree)\n",
    "f1 = f1_score(y_test, tree)\n",
    "\n",
    "# Exibir métricas\n",
    "print(f\"Acurácia: {accuracy:.2f}\")\n",
    "print(f\"Precisão: {precision:.2f}\")\n",
    "print(f\"Recall: {recall:.2f}\")\n",
    "print(f\"F1-Score: {f1:.2f}\")"
   ]
  },
  {
   "cell_type": "code",
   "execution_count": 132,
   "id": "a28d8381",
   "metadata": {},
   "outputs": [
    {
     "name": "stdout",
     "output_type": "stream",
     "text": [
      "Acurácia: 0.56\n",
      "Precisão: 0.35\n",
      "Recall: 0.39\n",
      "F1-Score: 0.37\n"
     ]
    }
   ],
   "source": [
    "# Fazer previsões\n",
    "tree_valid = model.predict(X_valid2)\n",
    "\n",
    "# Avaliar o modelo\n",
    "accuracy = accuracy_score(y_valid, tree_valid)\n",
    "precision = precision_score(y_valid, tree_valid)\n",
    "recall = recall_score(y_valid, tree_valid)\n",
    "f1 = f1_score(y_valid, tree_valid)\n",
    "\n",
    "# Exibir métricas\n",
    "print(f\"Acurácia: {accuracy:.2f}\")\n",
    "print(f\"Precisão: {precision:.2f}\")\n",
    "print(f\"Recall: {recall:.2f}\")\n",
    "print(f\"F1-Score: {f1:.2f}\")"
   ]
  },
  {
   "cell_type": "markdown",
   "id": "a01958e6",
   "metadata": {},
   "source": [
    "Após testar o modelo decision tree, tanto na base de teste como validação, pôde-se observar as principais métricas, vendo que acurácia em ambos resultados ficam em torno de 0.56 (sendo valores menores), precisão em torno de 0.35 e F-score em torno de 0.37."
   ]
  },
  {
   "cell_type": "code",
   "execution_count": null,
   "id": "292d8730",
   "metadata": {},
   "outputs": [
    {
     "name": "stderr",
     "output_type": "stream",
     "text": [
      "C:\\Users\\re048225\\AppData\\Local\\Packages\\PythonSoftwareFoundation.Python.3.11_qbz5n2kfra8p0\\LocalCache\\local-packages\\Python311\\site-packages\\xgboost\\training.py:199: UserWarning: [10:49:56] WARNING: C:\\actions-runner\\_work\\xgboost\\xgboost\\src\\learner.cc:790: \n",
      "Parameters: { \"use_label_encoder\" } are not used.\n",
      "\n",
      "  bst.update(dtrain, iteration=i, fobj=obj)\n"
     ]
    },
    {
     "name": "stdout",
     "output_type": "stream",
     "text": [
      "Acurácia: 0.60\n",
      "Precisão: 0.39\n",
      "Recall: 0.27\n",
      "F1-Score: 0.32\n"
     ]
    }
   ],
   "source": [
    "# Criar e treinar o modelo XGBoost\n",
    "\n",
    "model_xb = XGBClassifier(use_label_encoder=False, eval_metric='logloss', random_state=42)\n",
    "model_xb.fit(X_train2, y_train)\n",
    "\n",
    "# Fazer previsões\n",
    "boosting = model_xb.predict(X_test2)\n",
    "# Avaliar o modelo\n",
    "accuracy = accuracy_score(y_test, boosting)\n",
    "precision = precision_score(y_test, boosting)\n",
    "recall = recall_score(y_test, boosting)\n",
    "f1 = f1_score(y_test, boosting)\n",
    "\n",
    "# Exibir métricas\n",
    "print(f\"Acurácia: {accuracy:.2f}\")\n",
    "print(f\"Precisão: {precision:.2f}\")\n",
    "print(f\"Recall: {recall:.2f}\")\n",
    "print(f\"F1-Score: {f1:.2f}\")"
   ]
  },
  {
   "cell_type": "code",
   "execution_count": 134,
   "id": "48a8e132",
   "metadata": {},
   "outputs": [
    {
     "name": "stdout",
     "output_type": "stream",
     "text": [
      "Acurácia: 0.61\n",
      "Precisão: 0.38\n",
      "Recall: 0.29\n",
      "F1-Score: 0.33\n"
     ]
    }
   ],
   "source": [
    "# Fazer previsões validacao\n",
    "boosting_valid = model_xb.predict(X_valid2)\n",
    "# Avaliar o modelo\n",
    "accuracy = accuracy_score(y_valid, boosting_valid)\n",
    "precision = precision_score(y_valid, boosting_valid)\n",
    "recall = recall_score(y_valid, boosting_valid)\n",
    "f1 = f1_score(y_valid, boosting_valid)\n",
    "\n",
    "# Exibir métricas\n",
    "print(f\"Acurácia: {accuracy:.2f}\")\n",
    "print(f\"Precisão: {precision:.2f}\")\n",
    "print(f\"Recall: {recall:.2f}\")\n",
    "print(f\"F1-Score: {f1:.2f}\")"
   ]
  },
  {
   "cell_type": "markdown",
   "id": "1758cdb2",
   "metadata": {},
   "source": [
    "O modelo Xgboost apresentou resultados similares em ambos conjuntos de dados, no entanto, tais resultados foram similares ao do modelo random forest."
   ]
  },
  {
   "cell_type": "code",
   "execution_count": 145,
   "id": "4ecef753",
   "metadata": {},
   "outputs": [
    {
     "name": "stdout",
     "output_type": "stream",
     "text": [
      "Acurácia: 0.59\n",
      "Precisão: 0.43\n",
      "Recall: 0.53\n",
      "F1-Score: 0.48\n"
     ]
    },
    {
     "name": "stderr",
     "output_type": "stream",
     "text": [
      "C:\\Users\\re048225\\AppData\\Local\\Packages\\PythonSoftwareFoundation.Python.3.11_qbz5n2kfra8p0\\LocalCache\\local-packages\\Python311\\site-packages\\sklearn\\utils\\validation.py:1408: DataConversionWarning: A column-vector y was passed when a 1d array was expected. Please change the shape of y to (n_samples, ), for example using ravel().\n",
      "  y = column_or_1d(y, warn=True)\n"
     ]
    }
   ],
   "source": [
    "# Criando e treinando o modelo Naive Bayes\n",
    "\n",
    "model_bayes = GaussianNB()\n",
    "model_bayes.fit(X_train2, y_train)\n",
    "\n",
    "# Fazendo previsões\n",
    "y_bayesiano = model_bayes.predict(X_test2)\n",
    "\n",
    "# Avaliar o modelo\n",
    "accuracy = accuracy_score(y_test, y_bayesiano)\n",
    "precision = precision_score(y_test, y_bayesiano)\n",
    "recall = recall_score(y_test, y_bayesiano)\n",
    "f1 = f1_score(y_test, y_bayesiano)\n",
    "\n",
    "# Exibir métricas\n",
    "print(f\"Acurácia: {accuracy:.2f}\")\n",
    "print(f\"Precisão: {precision:.2f}\")\n",
    "print(f\"Recall: {recall:.2f}\")\n",
    "print(f\"F1-Score: {f1:.2f}\")"
   ]
  },
  {
   "cell_type": "code",
   "execution_count": 146,
   "id": "e5f26fd7",
   "metadata": {},
   "outputs": [
    {
     "name": "stdout",
     "output_type": "stream",
     "text": [
      "Acurácia: 0.60\n",
      "Precisão: 0.43\n",
      "Recall: 0.54\n",
      "F1-Score: 0.48\n"
     ]
    }
   ],
   "source": [
    "# Fazendo previsões\n",
    "y_bayesiano_valid = model_bayes.predict(X_valid2)\n",
    "\n",
    "# Avaliar o modelo\n",
    "accuracy = accuracy_score(y_valid, y_bayesiano_valid)\n",
    "precision = precision_score(y_valid, y_bayesiano_valid)\n",
    "recall = recall_score(y_valid, y_bayesiano_valid)\n",
    "f1 = f1_score(y_valid, y_bayesiano_valid)\n",
    "\n",
    "# Exibir métricas\n",
    "print(f\"Acurácia: {accuracy:.2f}\")\n",
    "print(f\"Precisão: {precision:.2f}\")\n",
    "print(f\"Recall: {recall:.2f}\")\n",
    "print(f\"F1-Score: {f1:.2f}\")"
   ]
  },
  {
   "cell_type": "markdown",
   "id": "5b1c4a12",
   "metadata": {},
   "source": [
    "O modelo baysiano apresentou resultados similares em ambos conjuntos de dados, e resultados mais elevados, comparados aos demais modelos. Pode-se observar que a precisão ficou em 0.43, Recall 0.53 e F1-Score 0.48."
   ]
  },
  {
   "cell_type": "code",
   "execution_count": null,
   "id": "e929fcc2",
   "metadata": {},
   "outputs": [
    {
     "name": "stdout",
     "output_type": "stream",
     "text": [
      "                                Feature  Mean_Class_1\n",
      "7                           gender_Male      0.141329\n",
      "3                           Partner_Yes      0.129870\n",
      "6                  DeviceProtection_Yes      0.129106\n",
      "9                          TotalCharges      0.498854\n",
      "8                        MonthlyCharges      0.281131\n",
      "4                        Dependents_Yes      0.273491\n",
      "0                         SeniorCitizen      0.267380\n",
      "5  DeviceProtection_No internet service      0.506494\n",
      "2                     Contract_Two year     69.269817\n",
      "1                     Contract_One year   2465.417548\n"
     ]
    }
   ],
   "source": [
    "class_index = 1  # Class to filter\n",
    "means_class_1 = model_bayes.theta_[class_index]\n",
    "\n",
    "# Create a DataFrame with feature names and their means\n",
    "df_means = pd.DataFrame({\n",
    "    \"Feature\": importance_df['Feature'],\n",
    "    \"Mean_Class_1\": means_class_1\n",
    "})\n",
    "\n",
    "print(df_means)\n"
   ]
  },
  {
   "cell_type": "markdown",
   "id": "8008881c",
   "metadata": {},
   "source": [
    "No Naive Bayes, não é calculada as Feature importance diretamente. No entanto, é possível inferir a importância das características analisando as probabilidades condicionais ou os pesos associados a cada característica. Sendo assim, é possível analisar média (theta_) e a variância (sigma_) de cada característica para cada classe."
   ]
  },
  {
   "cell_type": "code",
   "execution_count": 162,
   "id": "eacfea63",
   "metadata": {},
   "outputs": [
    {
     "data": {
      "image/png": "[encoded data removed]",
      "text/plain": [
       "<Figure size 640x480 with 1 Axes>"
      ]
     },
     "metadata": {},
     "output_type": "display_data"
    }
   ],
   "source": [
    "# Criando o gráfico de barras\n",
    "df_means = df_means.sort_values(by='Mean_Class_1', ascending=True)\n",
    "plt.barh(df_means['Feature'], df_means['Mean_Class_1'])\n",
    "plt.xlabel('Valores')\n",
    "plt.ylabel('Features')\n",
    "plt.title('Grau de importância - Features')\n",
    "plt.show()"
   ]
  },
  {
   "cell_type": "code",
   "execution_count": 163,
   "id": "76bf1f08",
   "metadata": {},
   "outputs": [
    {
     "data": {
      "image/png": "[encoded data removed]",
      "text/plain": [
       "<Figure size 640x480 with 1 Axes>"
      ]
     },
     "metadata": {},
     "output_type": "display_data"
    }
   ],
   "source": [
    "from sklearn.metrics import roc_curve, auc\n",
    "from sklearn.model_selection import train_test_split\n",
    "from sklearn.datasets import make_classification\n",
    "\n",
    "# Previsões de probabilidade\n",
    "y_score = model_bayes.predict_proba(X_test2)[:, 1]\n",
    "\n",
    "# Calcular a curva ROC\n",
    "fpr, tpr, _ = roc_curve(y_test, y_score)\n",
    "roc_auc = auc(fpr, tpr)\n",
    "\n",
    "# Plotar a curva ROC\n",
    "plt.figure()\n",
    "plt.plot(fpr, tpr, color='darkorange', lw=2, label=f'ROC curve (area = {roc_auc:.2f})')\n",
    "plt.plot([0, 1], [0, 1], color='navy', lw=2, linestyle='--')\n",
    "plt.xlabel('False Positive Rate')\n",
    "plt.ylabel('True Positive Rate')\n",
    "plt.title('Curva ROC - Classificação Binária')\n",
    "plt.legend(loc=\"lower right\")\n",
    "plt.show()"
   ]
  }
 ],
 "metadata": {
  "kernelspec": {
   "display_name": "Python 3",
   "language": "python",
   "name": "python3"
  },
  "language_info": {
   "codemirror_mode": {
    "name": "ipython",
    "version": 3
   },
   "file_extension": ".py",
   "mimetype": "text/x-python",
   "name": "python",
   "nbconvert_exporter": "python",
   "pygments_lexer": "ipython3",
   "version": "3.11.9"
  }
 },
 "nbformat": 4,
 "nbformat_minor": 5
}
